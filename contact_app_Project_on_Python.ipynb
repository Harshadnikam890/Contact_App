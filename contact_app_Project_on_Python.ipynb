{
  "cells": [
    {
      "cell_type": "markdown",
      "metadata": {
        "id": "view-in-github",
        "colab_type": "text"
      },
      "source": [
        "<a href=\"https://colab.research.google.com/github/Harshadnikam890/Contact_App/blob/main/contact_app_Project_on_Python.ipynb\" target=\"_parent\"><img src=\"https://colab.research.google.com/assets/colab-badge.svg\" alt=\"Open In Colab\"/></a>"
      ]
    },
    {
      "cell_type": "markdown",
      "metadata": {
        "id": "2dHXHHOxxNKH"
      },
      "source": [
        "# Contact app\n",
        "\n",
        "You have learnt a lot of new things; data structures, string, regex & files. Lets use all our newly acquired knowledge to build a **contact app**, just like the ones in our smartphone.\n",
        "\n",
        "We will not be building a fancy UI, instead we will focus on understanding the programming logic.\n",
        "\n",
        "Lets get started!\n",
        "\n",
        "Think of all the features that your contact app has . . . !\n",
        "- It can show you all the contact names\n",
        "- You can search for contacts (using name)\n",
        "- You can see all the information associated with the contact\n",
        "- You can delete and update contacts\n",
        "\n",
        "Can you think of anything more ? Our contact app should have at least these features.\n",
        "- The app should show us all the contact names\n",
        "- It should allow us to select a contact and view all the information associated with the contact\n",
        "- It should allow us to update contact info & delete contact\n",
        "- Finally, it should show us all the contact names\n",
        "\n",
        "For every contact, we will store the `name`, `number` & `email`."
      ]
    },
    {
      "cell_type": "markdown",
      "metadata": {
        "id": "HlLAkY0BxNKN"
      },
      "source": [
        "### Data Structure\n",
        "The very first thing that we need to decide is \"What data structure to use?\"\n",
        "\n",
        "To store all the contacts, we can use a list of dictionaries; were each dictionary stores the `name`, `number` & `email`  of the contact.\n",
        "\n",
        "Create a list of dictionaries called `contacts` with 3 dummy contacts.  "
      ]
    },
    {
      "cell_type": "code",
      "execution_count": null,
      "metadata": {
        "id": "sm1yO2lBxNKO",
        "colab": {
          "base_uri": "https://localhost:8080/"
        },
        "outputId": "146979d7-5bf0-44ad-f894-00b09a59d79f"
      },
      "outputs": [
        {
          "output_type": "execute_result",
          "data": {
            "text/plain": [
              "[{'name': 'Harshad',\n",
              "  'number': 9503059488,\n",
              "  'email': 'nikamharshad2017@gmail.com'},\n",
              " {'name': 'Prathmesh',\n",
              "  'number': 9763961109,\n",
              "  'email': 'prathmesh2017@gmail.com'},\n",
              " {'name': 'Amol', 'number': 7276239488, 'email': 'amol2016@gmail.com'}]"
            ]
          },
          "metadata": {},
          "execution_count": 2
        }
      ],
      "source": [
        "contacts=[{\"name\":\"Harshad\",\"number\":9503059488,\"email\":\"nikamharshad2017@gmail.com\"},\n",
        "      {\"name\":\"Prathmesh\",\"number\":9763961109,\"email\":\"prathmesh2017@gmail.com\"},\n",
        "      {\"name\":\"Amol\",\"number\":7276239488,\"email\":\"amol2016@gmail.com\"}]\n",
        "\n",
        "contacts"
      ]
    },
    {
      "cell_type": "markdown",
      "metadata": {
        "id": "Zq5QZJ_GxNKQ"
      },
      "source": [
        "### List all contact names\n",
        "Write `show_contacts` function that takes the `contacts` list and prints all the contact names. These names will help us to select the contact later."
      ]
    },
    {
      "cell_type": "code",
      "execution_count": null,
      "metadata": {
        "colab": {
          "base_uri": "https://localhost:8080/"
        },
        "id": "yShcpoQexNKR",
        "outputId": "adc2cb78-a512-4d92-817c-e7aee5a6da22"
      },
      "outputs": [
        {
          "output_type": "stream",
          "name": "stdout",
          "text": [
            "Harshad\n",
            "Prathmesh\n",
            "Amol\n",
            "aniket\n",
            "harshya\n"
          ]
        }
      ],
      "source": [
        "def show_contact(contacts):\n",
        "\n",
        "  for key in contacts:\n",
        "    print(key[\"name\"])\n",
        "\n",
        "show_contact(contacts)"
      ]
    },
    {
      "cell_type": "markdown",
      "metadata": {
        "id": "PrRI0FqgxNKS"
      },
      "source": [
        "### Add a new Contact\n",
        "\n",
        "Write `add_contact` function that takes user input and *adds new contact* dictionary to the existing list of `contacts`."
      ]
    },
    {
      "cell_type": "code",
      "execution_count": null,
      "metadata": {
        "colab": {
          "base_uri": "https://localhost:8080/"
        },
        "id": "9e-hVsfLxNKT",
        "outputId": "32a73338-26b5-4e19-db2d-f27a6ce89e94"
      },
      "outputs": [
        {
          "output_type": "stream",
          "name": "stdout",
          "text": [
            "Enter the new member name:anya\n",
            "Enter the new member number:54656565666\n",
            "Enter the new member email:hjaoaj#@ghsh\n",
            "New contact save successfully\n",
            "Enter the new member name:harshya\n",
            "Enter the new member number:54\n",
            "Enter the new member email:8898656565\n",
            "New contact save successfully\n"
          ]
        }
      ],
      "source": [
        "def add_contact(contacts):\n",
        "    name=input(\"Enter the new member name:\")\n",
        "    number=int(input(\"Enter the new member number:\"))\n",
        "    email=input(\"Enter the new member email:\")\n",
        "\n",
        "    new_contact={\"name\":name,\"number\":number,\"email\":email}\n",
        "\n",
        "    contacts.append(new_contact)\n",
        "    print(\"New contact save successfully\")\n",
        "\n",
        "add_contact(contacts)\n",
        "add_contact(contacts)\n"
      ]
    },
    {
      "cell_type": "code",
      "source": [
        "contacts"
      ],
      "metadata": {
        "colab": {
          "base_uri": "https://localhost:8080/"
        },
        "id": "jjWgGN3FZJPX",
        "outputId": "da855757-b244-4326-ffe8-e6e1cef85454"
      },
      "execution_count": null,
      "outputs": [
        {
          "output_type": "execute_result",
          "data": {
            "text/plain": [
              "[{'name': 'Harshad',\n",
              "  'number': 9503059488,\n",
              "  'email': 'nikamharshad2017@gmail.com'},\n",
              " {'name': 'Prathmesh',\n",
              "  'number': 9763961109,\n",
              "  'email': 'prathmesh2017@gmail.com'},\n",
              " {'name': 'Amol', 'number': 7276239488, 'email': 'amol2016@gmail.com'},\n",
              " {'name': 'anya', 'number': 54656565666, 'email': 'hjaoaj#@ghsh'},\n",
              " {'name': 'harshya', 'number': 54, 'email': '8898656565'}]"
            ]
          },
          "metadata": {},
          "execution_count": 6
        }
      ]
    },
    {
      "cell_type": "markdown",
      "metadata": {
        "id": "R9xK9k6UxNKV"
      },
      "source": [
        "### Delete Contact\n",
        "\n",
        "Write `delete_contact` function to delete an existing contact by providing `name` of the contact which we want to delete."
      ]
    },
    {
      "cell_type": "code",
      "execution_count": null,
      "metadata": {
        "id": "qrKve8zZxNKV",
        "colab": {
          "base_uri": "https://localhost:8080/"
        },
        "outputId": "daba940a-7e73-42c1-890c-d1ae7f269e91"
      },
      "outputs": [
        {
          "output_type": "stream",
          "name": "stdout",
          "text": [
            "Enter the name to be deleted: andya\n",
            "Harshad\n",
            "Prathmesh\n",
            "Amol\n",
            "anya\n",
            "harshya\n"
          ]
        }
      ],
      "source": [
        "def delete_contact(contacts):\n",
        "  name_to_delete=input(\"Enter the name to be deleted: \")\n",
        "  # contacts.remove(name_to_delete)\n",
        "  for key in contacts:\n",
        "    print(key[\"name\"])\n",
        "    if name_to_delete==key[\"name\"]:\n",
        "      contacts.remove(key)\n",
        "      print(\"delete contact\",key)\n",
        "\n",
        "delete_contact(contacts)"
      ]
    },
    {
      "cell_type": "code",
      "source": [
        "contacts"
      ],
      "metadata": {
        "colab": {
          "base_uri": "https://localhost:8080/"
        },
        "id": "IY9Hdb-zjr69",
        "outputId": "f5e224e7-126e-45de-d503-ab2c40ffaa2e"
      },
      "execution_count": null,
      "outputs": [
        {
          "output_type": "execute_result",
          "data": {
            "text/plain": [
              "[{'name': 'Harshad',\n",
              "  'number': 9503059488,\n",
              "  'email': 'nikamharshad2017@gmail.com'},\n",
              " {'name': 'Prathmesh',\n",
              "  'number': 9763961109,\n",
              "  'email': 'prathmesh2017@gmail.com'},\n",
              " {'name': 'Amol', 'number': 7276239488, 'email': 'amol2016@gmail.com'},\n",
              " {'name': 'anya', 'number': 54656565666, 'email': 'hjaoaj#@ghsh'},\n",
              " {'name': 'harshya', 'number': 54, 'email': '8898656565'}]"
            ]
          },
          "metadata": {},
          "execution_count": 9
        }
      ]
    },
    {
      "cell_type": "markdown",
      "metadata": {
        "id": "qU8bZnuixNKW"
      },
      "source": [
        "### Update Contact details\n",
        "\n",
        "Let's write `update_contact` function which will *update contact details* such as `name`, `email` & `number`.\n",
        "The functions should take `contacts` and `name` as arguments. It should also print the newly added contact."
      ]
    },
    {
      "cell_type": "code",
      "execution_count": null,
      "metadata": {
        "id": "wNjMc8P_xNKX",
        "colab": {
          "base_uri": "https://localhost:8080/"
        },
        "outputId": "9c23c794-d99f-4f64-f516-d3c82185cdb1"
      },
      "outputs": [
        {
          "output_type": "stream",
          "name": "stdout",
          "text": [
            "Enter the name to be update: anya\n",
            "Harshad\n",
            "Prathmesh\n",
            "Amol\n",
            "anya\n",
            "enter the new  name:aniket\n",
            "Enter the new number9509875656\n",
            "Enter the new emailharsahad!bhsj\n",
            "harshya\n"
          ]
        }
      ],
      "source": [
        "def update_contact(contacts):\n",
        "  name_to_update=input(\"Enter the name to be update: \")\n",
        "\n",
        "  for key in contacts:\n",
        "    print(key[\"name\"])\n",
        "    if name_to_update==key[\"name\"]:\n",
        "      key.update({'name':input(\"enter the new  name:\"),'number':int(input(\"Enter the new number\")),\"email\":input(\"Enter the new email\")})\n",
        "      # print(\"update\",key)\n",
        "update_contact(contacts)"
      ]
    },
    {
      "cell_type": "code",
      "source": [
        "contacts"
      ],
      "metadata": {
        "colab": {
          "base_uri": "https://localhost:8080/"
        },
        "id": "8KLq4_IDkDZT",
        "outputId": "eef9bd53-d151-457d-fefe-c0d62c491079"
      },
      "execution_count": null,
      "outputs": [
        {
          "output_type": "execute_result",
          "data": {
            "text/plain": [
              "[{'name': 'Harshad',\n",
              "  'number': 9503059488,\n",
              "  'email': 'nikamharshad2017@gmail.com'},\n",
              " {'name': 'Prathmesh',\n",
              "  'number': 9763961109,\n",
              "  'email': 'prathmesh2017@gmail.com'},\n",
              " {'name': 'Amol', 'number': 7276239488, 'email': 'amol2016@gmail.com'},\n",
              " {'name': 'aniket', 'number': 9509875656, 'email': 'harsahad!bhsj'},\n",
              " {'name': 'harshya', 'number': 54, 'email': '8898656565'}]"
            ]
          },
          "metadata": {},
          "execution_count": 11
        }
      ]
    },
    {
      "cell_type": "markdown",
      "metadata": {
        "id": "nDylUyKlxNKY"
      },
      "source": [
        "### Search Contact\n",
        "`search_contact` function takes the `contacts` list and a `name` string as input. It prints the contact details if `name` matches some contact name in the `contacts` list, else prints `No match found!`.\n",
        "\n",
        "**Note:** The functions should be case insensitive."
      ]
    },
    {
      "cell_type": "code",
      "source": [
        "def search_contact(contacts):\n",
        "  name_to_be_search=input(\"Enter the name to be search\")\n",
        "\n",
        "  for key in contacts:\n",
        "    # print(key[\"name\"])\n",
        "    if name_to_be_search==(key[\"name\"]):\n",
        "      print(\"Contact detail of,\",(key[\"name\"]),\"is\",key)\n",
        "      break\n",
        "  else :\n",
        "      print(\"No match found\")\n",
        "\n",
        "\n",
        "search_contact(contacts)"
      ],
      "metadata": {
        "id": "L2Rq-ffNjXRm",
        "colab": {
          "base_uri": "https://localhost:8080/"
        },
        "outputId": "0293ea7b-5261-4717-ae48-61b345f052f9"
      },
      "execution_count": null,
      "outputs": [
        {
          "output_type": "stream",
          "name": "stdout",
          "text": [
            "Enter the name to be searchHarshad\n",
            "Contact detail of, Harshad is {'name': 'Harshad', 'number': 9503059488, 'email': 'nikamharshad2017@gmail.com'}\n"
          ]
        }
      ]
    },
    {
      "cell_type": "markdown",
      "metadata": {
        "id": "Z7NyyxV-xNKZ"
      },
      "source": [
        "###Open contact\n",
        "We often see *update* & *delete* options after we open a particular contact. It would be great if we can also implement the same.\n",
        "\n",
        "After opening the contact, the program should wait for user input. The user can press `u` to update & `d` delete contact. Any other key press should be ignored\n",
        "\n",
        "Write the updated `open_contact` function below"
      ]
    },
    {
      "cell_type": "code",
      "execution_count": null,
      "metadata": {
        "id": "xsKt46vHxNKZ",
        "colab": {
          "base_uri": "https://localhost:8080/"
        },
        "outputId": "2cdffc93-3703-453e-cf5e-3c88002620b2"
      },
      "outputs": [
        {
          "output_type": "stream",
          "name": "stdout",
          "text": [
            "Enter the key:j\n",
            "Ignored\n"
          ]
        }
      ],
      "source": [
        "def open_contact(contacts):\n",
        "  # name_search=input(\"Enter the name\")\n",
        "  # a = 'i'\n",
        "  press=input(\"Enter the key:\")\n",
        "  if press=='u':\n",
        "      update_contact(contacts)\n",
        "      print(\"Update the contact\")\n",
        "  elif press=='d':\n",
        "      delete_contact(contacts)\n",
        "      print(\"Delete the contact\")\n",
        "  else:\n",
        "      print(\"Ignored\")\n",
        "\n",
        "  # for key in contacts:\n",
        "  #   # print(key['name'])\n",
        "  #   if name_search==(key['name']):\n",
        "  #     print(key[\"number\"])\n",
        "  #     print(key[\"email\"])\n",
        "\n",
        "open_contact(contacts)\n",
        "\n"
      ]
    },
    {
      "cell_type": "markdown",
      "metadata": {
        "id": "AG5UPSBHxNKa"
      },
      "source": [
        "### Complete application (using all the above functions in use)\n",
        "\n",
        "We will use an infinite loop to encapsulate our application logic and break only when `q` is pressed. We will use `clear_output()` function from `IPython.display` to clear the output before printing anything new.\n",
        "\n",
        "Below is the pseudo-code to help you build the application logic."
      ]
    },
    {
      "cell_type": "code",
      "execution_count": null,
      "metadata": {
        "id": "2SaNkWX-xNKa",
        "colab": {
          "base_uri": "https://localhost:8080/"
        },
        "outputId": "8848543e-5551-4b6b-de63-f305c7f99490"
      },
      "outputs": [
        {
          "name": "stdout",
          "output_type": "stream",
          "text": [
            "Enter the functionshow\n",
            "Harshad\n",
            "Prathmesh\n",
            "Amol\n",
            "aniket\n",
            "harshya\n",
            "Enter the functionq\n"
          ]
        }
      ],
      "source": [
        "while True:\n",
        "  a =input(\"Enter the function\")\n",
        "  if a==\"show\":\n",
        "   show_contact(contacts)\n",
        "  elif a =='add':\n",
        "    add_contact(contacts)\n",
        "  elif a=='delete':\n",
        "    delete_contact(contacts)\n",
        "  elif a=='update':\n",
        "    update_contact(contacts)\n",
        "  elif a=='search':\n",
        "    search_contact(contacts)\n",
        "  elif a=='open':\n",
        "    open_contact(contacts)\n",
        "  elif a==\"q\":\n",
        "    break\n",
        "\n",
        "\n"
      ]
    },
    {
      "cell_type": "code",
      "source": [
        "contacts=[{\"name\":\"Harshad\",\"number\":9503059488,\"email\":\"nikamharshad2017@gmail.com\"},\n",
        "      {\"name\":\"Prathmesh\",\"number\":9763961109,\"email\":\"prathmesh2017@gmail.com\"},\n",
        "      {\"name\":\"Amol\",\"number\":7276239488,\"email\":\"amol2016@gmail.com\"}]\n",
        "\n",
        "contacts\n",
        "\n",
        "\n",
        "def show_contact(contacts):\n",
        "\n",
        "  for key in contacts:\n",
        "    print(key[\"name\"])\n",
        "\n",
        "show_contact(contacts)\n",
        "\n",
        "def add_contact(contacts):\n",
        "    name=input(\"Enter the new member name:\")\n",
        "    number=int(input(\"Enter the new member number:\"))\n",
        "    email=input(\"Enter the new member email:\")\n",
        "\n",
        "    new_contact={\"name\":name,\"number\":number,\"email\":email}\n",
        "\n",
        "    contacts.append(new_contact)\n",
        "    print(\"New contact save successfully\")\n",
        "\n",
        "add_contact(contacts)\n",
        "add_contact(contacts)\n",
        "\n",
        "\n",
        "def delete_contact(contacts):\n",
        "  name_to_delete=input(\"Enter the name to be deleted: \")\n",
        "  # contacts.remove(name_to_delete)\n",
        "  for key in contacts:\n",
        "    print(key[\"name\"])\n",
        "    if name_to_delete==key[\"name\"]:\n",
        "      contacts.remove(key)\n",
        "      print(\"delete contact\",key)\n",
        "\n",
        "delete_contact(contacts)\n",
        "\n",
        "\n",
        "def update_contact(contacts):\n",
        "  name_to_update=input(\"Enter the name to be update: \")\n",
        "\n",
        "  for key in contacts:\n",
        "    print(key[\"name\"])\n",
        "    if name_to_update==key[\"name\"]:\n",
        "      key.update({'name':input(\"enter the new  name:\"),'number':int(input(\"Enter the new number\")),\"email\":input(\"Enter the new email\")})\n",
        "      # print(\"update\",key)\n",
        "update_contact(contacts)\n",
        "\n",
        "\n",
        "def search_contact(contacts):\n",
        "  name_to_be_search=input(\"Enter the name to be search\")\n",
        "\n",
        "  for key in contacts:\n",
        "    # print(key[\"name\"])\n",
        "    if name_to_be_search==(key[\"name\"]):\n",
        "      print(\"Contact detail of,\",(key[\"name\"]),\"is\",key)\n",
        "      break\n",
        "  else :\n",
        "      print(\"No match found\")\n",
        "\n",
        "\n",
        "search_contact(contacts)\n",
        "\n",
        "\n",
        "def open_contact(contacts):\n",
        "  press=input(\"Enter the key:\")\n",
        "  if press=='u':\n",
        "      update_contact(contacts)\n",
        "      print(\"Update the contact\")\n",
        "  elif press=='d':\n",
        "      delete_contact(contacts)\n",
        "      print(\"Delete the contact\")\n",
        "  elif press==\"q\":\n",
        "      print(\"Quit\")\n",
        "  else:\n",
        "      print(\"Ignored\")\n",
        "\n",
        "open_contact(contacts)\n"
      ],
      "metadata": {
        "id": "PTOtc7zIFfjR",
        "colab": {
          "base_uri": "https://localhost:8080/",
          "height": 547
        },
        "outputId": "6803f27e-ce71-41ed-a000-67f0c8d595b0"
      },
      "execution_count": null,
      "outputs": [
        {
          "output_type": "stream",
          "name": "stdout",
          "text": [
            "Harshad\n",
            "Prathmesh\n",
            "Amol\n",
            "Enter the new member name:aniket\n",
            "Enter the new member number:456865666\n",
            "Enter the new member email:aniket@123\n",
            "New contact save successfully\n",
            "Enter the new member name:annni\n",
            "Enter the new member number:65657945656\n",
            "Enter the new member email:anniiii@12345\n",
            "New contact save successfully\n"
          ]
        },
        {
          "output_type": "error",
          "ename": "KeyboardInterrupt",
          "evalue": "Interrupted by user",
          "traceback": [
            "\u001b[0;31m---------------------------------------------------------------------------\u001b[0m",
            "\u001b[0;31mKeyboardInterrupt\u001b[0m                         Traceback (most recent call last)",
            "\u001b[0;32m<ipython-input-2-35f2d55a1628>\u001b[0m in \u001b[0;36m<cell line: 38>\u001b[0;34m()\u001b[0m\n\u001b[1;32m     36\u001b[0m       \u001b[0mprint\u001b[0m\u001b[0;34m(\u001b[0m\u001b[0;34m\"delete contact\"\u001b[0m\u001b[0;34m,\u001b[0m\u001b[0mkey\u001b[0m\u001b[0;34m)\u001b[0m\u001b[0;34m\u001b[0m\u001b[0;34m\u001b[0m\u001b[0m\n\u001b[1;32m     37\u001b[0m \u001b[0;34m\u001b[0m\u001b[0m\n\u001b[0;32m---> 38\u001b[0;31m \u001b[0mdelete_contact\u001b[0m\u001b[0;34m(\u001b[0m\u001b[0mcontacts\u001b[0m\u001b[0;34m)\u001b[0m\u001b[0;34m\u001b[0m\u001b[0;34m\u001b[0m\u001b[0m\n\u001b[0m\u001b[1;32m     39\u001b[0m \u001b[0;34m\u001b[0m\u001b[0m\n\u001b[1;32m     40\u001b[0m \u001b[0;34m\u001b[0m\u001b[0m\n",
            "\u001b[0;32m<ipython-input-2-35f2d55a1628>\u001b[0m in \u001b[0;36mdelete_contact\u001b[0;34m(contacts)\u001b[0m\n\u001b[1;32m     28\u001b[0m \u001b[0;34m\u001b[0m\u001b[0m\n\u001b[1;32m     29\u001b[0m \u001b[0;32mdef\u001b[0m \u001b[0mdelete_contact\u001b[0m\u001b[0;34m(\u001b[0m\u001b[0mcontacts\u001b[0m\u001b[0;34m)\u001b[0m\u001b[0;34m:\u001b[0m\u001b[0;34m\u001b[0m\u001b[0;34m\u001b[0m\u001b[0m\n\u001b[0;32m---> 30\u001b[0;31m   \u001b[0mname_to_delete\u001b[0m\u001b[0;34m=\u001b[0m\u001b[0minput\u001b[0m\u001b[0;34m(\u001b[0m\u001b[0;34m\"Enter the name to be deleted: \"\u001b[0m\u001b[0;34m)\u001b[0m\u001b[0;34m\u001b[0m\u001b[0;34m\u001b[0m\u001b[0m\n\u001b[0m\u001b[1;32m     31\u001b[0m   \u001b[0;31m# contacts.remove(name_to_delete)\u001b[0m\u001b[0;34m\u001b[0m\u001b[0;34m\u001b[0m\u001b[0m\n\u001b[1;32m     32\u001b[0m   \u001b[0;32mfor\u001b[0m \u001b[0mkey\u001b[0m \u001b[0;32min\u001b[0m \u001b[0mcontacts\u001b[0m\u001b[0;34m:\u001b[0m\u001b[0;34m\u001b[0m\u001b[0;34m\u001b[0m\u001b[0m\n",
            "\u001b[0;32m/usr/local/lib/python3.10/dist-packages/ipykernel/kernelbase.py\u001b[0m in \u001b[0;36mraw_input\u001b[0;34m(self, prompt)\u001b[0m\n\u001b[1;32m    849\u001b[0m                 \u001b[0;34m\"raw_input was called, but this frontend does not support input requests.\"\u001b[0m\u001b[0;34m\u001b[0m\u001b[0;34m\u001b[0m\u001b[0m\n\u001b[1;32m    850\u001b[0m             )\n\u001b[0;32m--> 851\u001b[0;31m         return self._input_request(str(prompt),\n\u001b[0m\u001b[1;32m    852\u001b[0m             \u001b[0mself\u001b[0m\u001b[0;34m.\u001b[0m\u001b[0m_parent_ident\u001b[0m\u001b[0;34m,\u001b[0m\u001b[0;34m\u001b[0m\u001b[0;34m\u001b[0m\u001b[0m\n\u001b[1;32m    853\u001b[0m             \u001b[0mself\u001b[0m\u001b[0;34m.\u001b[0m\u001b[0m_parent_header\u001b[0m\u001b[0;34m,\u001b[0m\u001b[0;34m\u001b[0m\u001b[0;34m\u001b[0m\u001b[0m\n",
            "\u001b[0;32m/usr/local/lib/python3.10/dist-packages/ipykernel/kernelbase.py\u001b[0m in \u001b[0;36m_input_request\u001b[0;34m(self, prompt, ident, parent, password)\u001b[0m\n\u001b[1;32m    893\u001b[0m             \u001b[0;32mexcept\u001b[0m \u001b[0mKeyboardInterrupt\u001b[0m\u001b[0;34m:\u001b[0m\u001b[0;34m\u001b[0m\u001b[0;34m\u001b[0m\u001b[0m\n\u001b[1;32m    894\u001b[0m                 \u001b[0;31m# re-raise KeyboardInterrupt, to truncate traceback\u001b[0m\u001b[0;34m\u001b[0m\u001b[0;34m\u001b[0m\u001b[0m\n\u001b[0;32m--> 895\u001b[0;31m                 \u001b[0;32mraise\u001b[0m \u001b[0mKeyboardInterrupt\u001b[0m\u001b[0;34m(\u001b[0m\u001b[0;34m\"Interrupted by user\"\u001b[0m\u001b[0;34m)\u001b[0m \u001b[0;32mfrom\u001b[0m \u001b[0;32mNone\u001b[0m\u001b[0;34m\u001b[0m\u001b[0;34m\u001b[0m\u001b[0m\n\u001b[0m\u001b[1;32m    896\u001b[0m             \u001b[0;32mexcept\u001b[0m \u001b[0mException\u001b[0m \u001b[0;32mas\u001b[0m \u001b[0me\u001b[0m\u001b[0;34m:\u001b[0m\u001b[0;34m\u001b[0m\u001b[0;34m\u001b[0m\u001b[0m\n\u001b[1;32m    897\u001b[0m                 \u001b[0mself\u001b[0m\u001b[0;34m.\u001b[0m\u001b[0mlog\u001b[0m\u001b[0;34m.\u001b[0m\u001b[0mwarning\u001b[0m\u001b[0;34m(\u001b[0m\u001b[0;34m\"Invalid Message:\"\u001b[0m\u001b[0;34m,\u001b[0m \u001b[0mexc_info\u001b[0m\u001b[0;34m=\u001b[0m\u001b[0;32mTrue\u001b[0m\u001b[0;34m)\u001b[0m\u001b[0;34m\u001b[0m\u001b[0;34m\u001b[0m\u001b[0m\n",
            "\u001b[0;31mKeyboardInterrupt\u001b[0m: Interrupted by user"
          ]
        }
      ]
    },
    {
      "cell_type": "code",
      "source": [],
      "metadata": {
        "id": "vFKJBOOQLQfD"
      },
      "execution_count": null,
      "outputs": []
    }
  ],
  "metadata": {
    "kernelspec": {
      "display_name": "Python 3",
      "language": "python",
      "name": "python3"
    },
    "language_info": {
      "codemirror_mode": {
        "name": "ipython",
        "version": 3
      },
      "file_extension": ".py",
      "mimetype": "text/x-python",
      "name": "python",
      "nbconvert_exporter": "python",
      "pygments_lexer": "ipython3",
      "version": "3.7.4"
    },
    "toc": {
      "base_numbering": 1,
      "nav_menu": {},
      "number_sections": true,
      "sideBar": true,
      "skip_h1_title": false,
      "title_cell": "Table of Contents",
      "title_sidebar": "Contents",
      "toc_cell": false,
      "toc_position": {},
      "toc_section_display": true,
      "toc_window_display": false
    },
    "colab": {
      "provenance": [],
      "include_colab_link": true
    }
  },
  "nbformat": 4,
  "nbformat_minor": 0
}